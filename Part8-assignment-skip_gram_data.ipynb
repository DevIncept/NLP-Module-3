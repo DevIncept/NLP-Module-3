Use the skip gram model to work on dataset of your choice and try to increase the accuracy.
Go through this [link] for more working of skip-gra model(https://www.kaggle.com/karthur10/skip-gram-implementation-with-pytorch-step-by-step)
